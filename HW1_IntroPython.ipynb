{
 "cells": [
  {
   "cell_type": "code",
   "execution_count": 1,
   "metadata": {
    "collapsed": true
   },
   "outputs": [],
   "source": [
    "import numpy as np"
   ]
  },
  {
   "cell_type": "markdown",
   "metadata": {},
   "source": [
    "## Exercise 1"
   ]
  },
  {
   "cell_type": "code",
   "execution_count": 10,
   "metadata": {},
   "outputs": [
    {
     "name": "stdout",
     "output_type": "stream",
     "text": [
      "Please enter the height in meters of the tower: 100\n",
      "You enter: \t100.0 m\n",
      "Time until the ball hits the ground: \t4.51753951453 s\n"
     ]
    }
   ],
   "source": [
    "h = float(raw_input(\"Please enter the height in meters of the tower: \"))\n",
    "print \"You enter: \\t\" + str(h) + \" m\"\n",
    "\n",
    "g = 9.8\n",
    "\n",
    "t = np.sqrt(2*h/g)\n",
    "\n",
    "print \"Time until the ball hits the ground: \\t\" + str(t) + \" s\" "
   ]
  },
  {
   "cell_type": "markdown",
   "metadata": {},
   "source": [
    "## Exercise 2"
   ]
  },
  {
   "cell_type": "code",
   "execution_count": 6,
   "metadata": {},
   "outputs": [
    {
     "name": "stdout",
     "output_type": "stream",
     "text": [
      "Please enter the period in seconds of the satellite: 86148\n",
      "You enter: \t86148.0 s\n",
      "Altitud of the satellite: \t-6370999.0 m\n"
     ]
    }
   ],
   "source": [
    "T = float(raw_input(\"Please enter the period in seconds of the satellite: \"))\n",
    "print \"You enter: \\t\" + str(T) + \" s\"\n",
    "\n",
    "G = 6.67*10**(-11)\n",
    "M = 5.97*10**(24)\n",
    "R = 6371*1000  #in meters\n",
    "\n",
    "h = ((G*M*T**2)/(4*np.pi**2))**(1/3) - R\n",
    "\n",
    "print \"Altitud of the satellite: \\t\" + str(h) + \" m\" "
   ]
  },
  {
   "cell_type": "markdown",
   "metadata": {},
   "source": [
    "## Exercise 3"
   ]
  },
  {
   "cell_type": "code",
   "execution_count": 10,
   "metadata": {},
   "outputs": [
    {
     "name": "stdout",
     "output_type": "stream",
     "text": [
      "Please enter x: 2\n",
      "Please enter y: 3\n",
      "r: \t3.60555127546\n",
      "tita : \t0.982793723247\n"
     ]
    }
   ],
   "source": [
    "x = float(raw_input(\"Please enter x: \"))\n",
    "y = float(raw_input(\"Please enter y: \"))\n",
    "\n",
    "r = np.sqrt(x**2 + y**2)\n",
    "tita = np.arctan(y/x)\n",
    "\n",
    "print \"r: \\t\" + str(r)\n",
    "print \"tita : \\t\" + str(tita)"
   ]
  },
  {
   "cell_type": "markdown",
   "metadata": {},
   "source": [
    "## Exercise 5"
   ]
  },
  {
   "cell_type": "code",
   "execution_count": 14,
   "metadata": {},
   "outputs": [
    {
     "name": "stdout",
     "output_type": "stream",
     "text": [
      "Transimision probability: \t0.730126136388\n",
      "Reflection probability: \t0.269873863612\n"
     ]
    }
   ],
   "source": [
    "m = 9.11*10**(-31)\n",
    "E = 10\n",
    "V = 9\n",
    "\n",
    "k1 = np.sqrt(2*m*E)\n",
    "k2 = np.sqrt(2*m*(E-V))\n",
    "\n",
    "T = (4*k1*k2)/(k1 + k2)**2\n",
    "R = ((k1 - k2)/(k1 + k2))**2\n",
    "\n",
    "print \"Transimision probability: \\t\" + str(T)\n",
    "print \"Reflection probability: \\t\" + str(R)"
   ]
  },
  {
   "cell_type": "code",
   "execution_count": null,
   "metadata": {
    "collapsed": true
   },
   "outputs": [],
   "source": []
  }
 ],
 "metadata": {
  "kernelspec": {
   "display_name": "Python 2",
   "language": "python",
   "name": "python2"
  },
  "language_info": {
   "codemirror_mode": {
    "name": "ipython",
    "version": 2
   },
   "file_extension": ".py",
   "mimetype": "text/x-python",
   "name": "python",
   "nbconvert_exporter": "python",
   "pygments_lexer": "ipython2",
   "version": "2.7.13"
  }
 },
 "nbformat": 4,
 "nbformat_minor": 2
}
